import pandas as pd
import seaborn as sns
import matplotlib.pyplot as plt

# Load dataset
df = pd.read_csv("car_insurance.csv")

# Basic info
print(df.info())
print(df.describe())
print(df.isnull().sum())

# Data cleaning
df.drop_duplicates(inplace=True)
df.fillna(df.median(), inplace=True)

# Visualization
sns.countplot(x='Vehicle_Age', hue='Claim', data=df)
plt.title("Vehicle Age vs Claim Probability")
plt.show()
